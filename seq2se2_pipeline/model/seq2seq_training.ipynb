{
 "cells": [
  {
   "cell_type": "markdown",
   "metadata": {},
   "source": [
    "### Tensorflow Seq2Seq model for translation from Swedish to English\n",
    "___"
   ]
  },
  {
   "cell_type": "code",
   "execution_count": 18,
   "metadata": {},
   "outputs": [
    {
     "name": "stdout",
     "output_type": "stream",
     "text": [
      "tf==2.15.0\n",
      "keras==2.15.0\n",
      "np==1.26.2\n",
      "pd==2.1.4\n"
     ]
    }
   ],
   "source": [
    "import tensorflow as tf\n",
    "import keras\n",
    "from sklearn.model_selection import train_test_split\n",
    "import numpy as np\n",
    "import pandas as pd\n",
    "import time\n",
    "import pickle as pl\n",
    "\n",
    "# custom imports\n",
    "from get_vocabulary import get_vocab\n",
    "from encoder_decoder import Encoder, Decoder\n",
    "\n",
    "\n",
    "print(f\"tf=={tf.__version__}\")\n",
    "print(f\"keras=={keras.__version__}\")\n",
    "print(f\"np=={np.__version__}\")\n",
    "print(f\"pd=={pd.__version__}\")"
   ]
  },
  {
   "cell_type": "markdown",
   "metadata": {},
   "source": [
    "### Model data processing methods\n",
    "___"
   ]
  },
  {
   "cell_type": "code",
   "execution_count": 19,
   "metadata": {},
   "outputs": [],
   "source": [
    "MAX_LINES = 40_000  # to limit model training to some amount of lines\n"
   ]
  },
  {
   "cell_type": "code",
   "execution_count": 20,
   "metadata": {},
   "outputs": [],
   "source": [
    "def create_dataset(src_file, tgt_file) -> tuple[np.ndarray[str]]:\n",
    "    with open(file=src_file, mode=\"r\", encoding=\"utf-8\") as swef:\n",
    "        swe_lines = [line[:-1] for line in swef.readlines()][:MAX_LINES]\n",
    "    with open(file=tgt_file, mode=\"r\", encoding=\"utf-8\") as engf:\n",
    "        eng_lines = [line[:-1] for line in engf.readlines()][:MAX_LINES]\n",
    "\n",
    "    return swe_lines, eng_lines\n",
    "\n",
    "#tokenize the sentence and pad the sequence to the same length\n",
    "def tokenize(lang):\n",
    "    lang_tokenizer = keras.preprocessing.text.Tokenizer(filters='')\n",
    "    lang_tokenizer.fit_on_texts(lang)\n",
    "    tensor = lang_tokenizer.texts_to_sequences(lang)\n",
    "    tensor = keras.preprocessing.sequence.pad_sequences(tensor, padding='post')\n",
    "    return tensor, lang_tokenizer\n",
    "\n",
    "def load_dataset(src_file: str, tgt_file: str):\n",
    "    swe_lines, eng_lines = create_dataset(src_file=src_file, tgt_file=tgt_file)\n",
    "\n",
    "    input_tensor, inp_lang_tokenizer = tokenize(lang=swe_lines)\n",
    "    target_tensor, targ_lang_tokenizer = tokenize(lang=eng_lines)\n",
    "    return input_tensor, target_tensor, inp_lang_tokenizer, targ_lang_tokenizer"
   ]
  },
  {
   "cell_type": "code",
   "execution_count": 21,
   "metadata": {},
   "outputs": [
    {
     "data": {
      "text/plain": [
       "((40000, 11), (40000, 11))"
      ]
     },
     "execution_count": 21,
     "metadata": {},
     "output_type": "execute_result"
    }
   ],
   "source": [
    "\n",
    "local_dir_cleaned = \"../../data/cleaned/\"\n",
    "clean_eng_file = \"europarl-v6-cleaned-filtered.en\"\n",
    "clean_swe_file = \"europarl-v6-cleaned-filtered.sv\"\n",
    "\n",
    "inp, tgt, inp_lang_tokenizer, tgt_lang_tokenizer = load_dataset(\n",
    "    src_file=local_dir_cleaned+clean_swe_file, \n",
    "    tgt_file=local_dir_cleaned+clean_eng_file\n",
    ")\n",
    "\n",
    "with open(file=\"../../trained_model/src_lang_tokenizer.pkl\", mode=\"wb\") as f:\n",
    "    pl.dump(inp_lang_tokenizer, f)\n",
    "with open(file=\"../../trained_model/tgt_lang_tokenizer.pkl\", mode=\"wb\") as f:\n",
    "    pl.dump(tgt_lang_tokenizer, f)\n",
    "\n",
    "inp.shape, tgt.shape"
   ]
  },
  {
   "cell_type": "code",
   "execution_count": 22,
   "metadata": {},
   "outputs": [
    {
     "name": "stdout",
     "output_type": "stream",
     "text": [
      "((32000, 11), (32000, 11))\n",
      "((8000, 11), (8000, 11))\n"
     ]
    }
   ],
   "source": [
    "inp_train, inp_val, tgt_train, tgt_val = train_test_split(inp, tgt, test_size=0.2)\n",
    "# inp_train, inp_val, tgt_train, tgt_val = train_test_split(inp_train_val, tgt_train_val, test_size=0.1)\n",
    "\n",
    "print((inp_train.shape, tgt_train.shape))\n",
    "print((inp_val.shape, tgt_val.shape))\n",
    "# print((inp_test.shape, tgt_test.shape))"
   ]
  },
  {
   "cell_type": "code",
   "execution_count": null,
   "metadata": {},
   "outputs": [],
   "source": []
  },
  {
   "cell_type": "code",
   "execution_count": 23,
   "metadata": {},
   "outputs": [],
   "source": [
    "BUFFER_SIZE = inp_train.shape[0]\n",
    "BATCH_SIZE = 64         # 64 sentences per batch\n",
    "steps_per_epoch = inp_train.shape[0]//BATCH_SIZE\n",
    "steps_per_epoch_val = inp_val.shape[0]//BATCH_SIZE\n",
    "EMBEDDING_DIM = 256     # ... \n",
    "units = 1024    # dimensionality of output of RNN\n",
    "\n",
    "inp_vocab = get_vocab(clean_file=local_dir_cleaned+clean_swe_file, max_lines=MAX_LINES)\n",
    "tgt_vocab = get_vocab(clean_file=local_dir_cleaned+clean_eng_file, max_lines=MAX_LINES)\n",
    "\n",
    "vocab_inp_size = len(inp_vocab)+1\n",
    "vocab_tgt_size = len(tgt_vocab)+1\n",
    "\n",
    "dataset = tf.data.Dataset.from_tensor_slices((inp_train, tgt_train)).shuffle(BUFFER_SIZE)\n",
    "dataset = dataset.batch(BATCH_SIZE, drop_remainder=True)\n",
    "validation_dataset = tf.data.Dataset.from_tensor_slices((inp_val, tgt_val)).shuffle(BUFFER_SIZE)\n",
    "validation_dataset = validation_dataset.batch(BATCH_SIZE, drop_remainder=True)"
   ]
  },
  {
   "cell_type": "markdown",
   "metadata": {},
   "source": [
    "#### Samples\n",
    "___"
   ]
  },
  {
   "cell_type": "code",
   "execution_count": 24,
   "metadata": {},
   "outputs": [
    {
     "data": {
      "text/plain": [
       "(TensorShape([64, 11]), TensorShape([64, 11]))"
      ]
     },
     "execution_count": 24,
     "metadata": {},
     "output_type": "execute_result"
    }
   ],
   "source": [
    "example_input_batch, example_target_batch = next(iter(dataset))\n",
    "example_input_batch.shape, example_target_batch.shape"
   ]
  },
  {
   "cell_type": "code",
   "execution_count": 25,
   "metadata": {},
   "outputs": [],
   "source": [
    "encoder = Encoder(vocab_inp_size, EMBEDDING_DIM, units, BATCH_SIZE)\n",
    "\n",
    "sample_hidden = encoder.initialize_hidden_state()\n",
    "sample_output, sample_hidden = encoder(example_input_batch, sample_hidden)"
   ]
  },
  {
   "cell_type": "code",
   "execution_count": 26,
   "metadata": {},
   "outputs": [
    {
     "name": "stdout",
     "output_type": "stream",
     "text": [
      "Decoder output shape: (batch_size, vocab size) (64, 11405)\n"
     ]
    }
   ],
   "source": [
    "decoder = Decoder(vocab_tgt_size, EMBEDDING_DIM, units, BATCH_SIZE)\n",
    "\n",
    "sample_decoder_output, _  = decoder(tf.random.uniform((BATCH_SIZE, 1)), sample_hidden)\n",
    "\n",
    "print ('Decoder output shape: (batch_size, vocab size) {}'.format(sample_decoder_output.shape))"
   ]
  },
  {
   "cell_type": "code",
   "execution_count": 27,
   "metadata": {},
   "outputs": [],
   "source": [
    "loss_object = keras.losses.SparseCategoricalCrossentropy(from_logits=True, reduction='none')\n",
    "\n",
    "def loss_function(real,pred):\n",
    "    loss_ = loss_object(real,pred)\n",
    "    return tf.reduce_mean(loss_)"
   ]
  },
  {
   "cell_type": "code",
   "execution_count": 28,
   "metadata": {},
   "outputs": [
    {
     "name": "stdout",
     "output_type": "stream",
     "text": [
      "tf.Tensor([1.063386  1.3633859], shape=(2,), dtype=float32)\n",
      "tf.Tensor(1.2133859, shape=(), dtype=float32)\n"
     ]
    }
   ],
   "source": [
    "print(loss_object([1,2],[[0,0.6,0.3,0.1],[0,0.6,0.3,0.1]]))\n",
    "\n",
    "print(loss_function([1,2],[[0,0.6,0.3,0.1],[0,0.6,0.3,0.1]]))"
   ]
  },
  {
   "cell_type": "code",
   "execution_count": 29,
   "metadata": {},
   "outputs": [],
   "source": [
    "optimizer = keras.optimizers.legacy.Adam()\n",
    "\n",
    "\n",
    "@tf.function\n",
    "def train_step(inp, targ, enc_hidden, encoder, decoder):\n",
    "    loss = 0\n",
    "\n",
    "    with tf.GradientTape() as tape:\n",
    "        _, enc_hidden = encoder(inp, enc_hidden)\n",
    "    \n",
    "        dec_hidden = enc_hidden\n",
    "\n",
    "        dec_input = tf.expand_dims([tgt_lang_tokenizer.word_index['<start>']]*BATCH_SIZE, 1)\n",
    "\n",
    "        for t in range(1,targ.shape[1]):\n",
    "            predictions, dec_hidden = decoder(dec_input, dec_hidden)     # enc_output , _\n",
    "            loss += loss_function(targ[:, t], predictions)\n",
    "            dec_input = tf.expand_dims(targ[:,t],1)\n",
    "    \n",
    "    batch_loss = (loss/int(targ.shape[1]))\n",
    "    variables = encoder.trainable_variables + decoder.trainable_variables\n",
    "    gradients = tape.gradient(loss, variables)\n",
    "    optimizer.apply_gradients(zip(gradients, variables))\n",
    "\n",
    "    return batch_loss\n",
    "\n",
    "\n",
    "def calculate_validation_loss(inp, targ, enc_hidden, encoder, decoder):\n",
    "    loss = 0\n",
    "    _, enc_hidden = encoder(inp, enc_hidden)\n",
    "    dec_hidden = enc_hidden\n",
    "    dec_input = tf.expand_dims([tgt_lang_tokenizer.word_index['<start>']]*BATCH_SIZE,1)\n",
    "\n",
    "    for t in range(1, targ.shape[1]):\n",
    "        predictions, dec_hidden = decoder(dec_input, dec_hidden)\n",
    "        loss+=loss_function(targ[:,t], predictions)\n",
    "        dec_input = tf.expand_dims(targ[:, t], 1)\n",
    "    \n",
    "    loss = loss/int(targ.shape[1])\n",
    "    return loss\n",
    "\n"
   ]
  },
  {
   "cell_type": "code",
   "execution_count": 30,
   "metadata": {},
   "outputs": [],
   "source": [
    "def training_seq2seq(epochs):\n",
    "    encoder = Encoder(vocab_inp_size, EMBEDDING_DIM, units, BATCH_SIZE)\n",
    "    decoder = Decoder(vocab_tgt_size, EMBEDDING_DIM, units, BATCH_SIZE)\n",
    "    training_loss = []\n",
    "    validation_loss = []\n",
    "\n",
    "    for epoch in range(epochs):\n",
    "        start = time.time()\n",
    "        enc_hidden = encoder.initialize_hidden_state()\n",
    "        total_loss = 0\n",
    "\n",
    "        # NOTE PROBLEM\n",
    "        for (batch,(inp,targ)) in enumerate(dataset.take(steps_per_epoch)):\n",
    "            batch_loss = train_step(inp, targ, enc_hidden, encoder, decoder)\n",
    "            total_loss+=batch_loss\n",
    "\n",
    "            if batch%100 == 0:\n",
    "                print('Epoch {} Batch {} Loss {:.4f}'.format(epoch + 1, batch, batch_loss))\n",
    "        \n",
    "        enc_hidden = encoder.initialize_hidden_state()\n",
    "        total_val_loss = 0\n",
    "\n",
    "        for (batch, (inp, targ)) in enumerate(validation_dataset.take(steps_per_epoch_val)):\n",
    "            val_loss = calculate_validation_loss(inp, targ, enc_hidden, encoder, decoder)\n",
    "            total_val_loss += val_loss\n",
    "        \n",
    "        training_loss.append(total_loss/steps_per_epoch)\n",
    "        validation_loss.append(total_val_loss/steps_per_epoch_val)\n",
    "\n",
    "        print('Epoch {} Loss {:.4f} Validation Loss {:.4f}'.format(epoch + 1, training_loss[-1], validation_loss[-1]))\n",
    "        print('Time taken for 1 epoch {} sec\\n'.format(time.time() - start))\n",
    "\n",
    "    return encoder, decoder, training_loss, validation_loss"
   ]
  },
  {
   "cell_type": "code",
   "execution_count": 31,
   "metadata": {},
   "outputs": [
    {
     "name": "stdout",
     "output_type": "stream",
     "text": [
      "Running seq2seq model without attention\n",
      "Epoch 1 Batch 0 Loss 8.4927\n",
      "Epoch 1 Batch 100 Loss 3.8005\n",
      "Epoch 1 Batch 200 Loss 3.7614\n",
      "Epoch 1 Batch 300 Loss 3.2401\n",
      "Epoch 1 Batch 400 Loss 3.1836\n",
      "Epoch 1 Loss 3.5595 Validation Loss 2.9442\n",
      "Time taken for 1 epoch 250.5608491897583 sec\n",
      "\n",
      "Epoch 2 Batch 0 Loss 2.7292\n",
      "Epoch 2 Batch 100 Loss 2.6592\n",
      "Epoch 2 Batch 200 Loss 2.5869\n",
      "Epoch 2 Batch 300 Loss 2.5329\n",
      "Epoch 2 Batch 400 Loss 2.6176\n",
      "Epoch 2 Loss 2.6051 Validation Loss 2.5653\n",
      "Time taken for 1 epoch 261.6411430835724 sec\n",
      "\n",
      "Epoch 3 Batch 0 Loss 2.0865\n",
      "Epoch 3 Batch 100 Loss 2.0149\n",
      "Epoch 3 Batch 200 Loss 2.0016\n",
      "Epoch 3 Batch 300 Loss 2.0107\n",
      "Epoch 3 Batch 400 Loss 1.9418\n",
      "Epoch 3 Loss 2.0814 Validation Loss 2.4002\n",
      "Time taken for 1 epoch 256.5561611652374 sec\n",
      "\n",
      "Epoch 4 Batch 0 Loss 1.5841\n",
      "Epoch 4 Batch 100 Loss 1.6207\n",
      "Epoch 4 Batch 200 Loss 1.4684\n",
      "Epoch 4 Batch 300 Loss 1.7981\n",
      "Epoch 4 Batch 400 Loss 1.7275\n",
      "Epoch 4 Loss 1.6292 Validation Loss 2.3686\n",
      "Time taken for 1 epoch 298.64318895339966 sec\n",
      "\n",
      "Epoch 5 Batch 0 Loss 1.1370\n",
      "Epoch 5 Batch 100 Loss 1.1635\n",
      "Epoch 5 Batch 200 Loss 1.3200\n",
      "Epoch 5 Batch 300 Loss 1.1940\n",
      "Epoch 5 Batch 400 Loss 1.3095\n",
      "Epoch 5 Loss 1.2211 Validation Loss 2.3983\n",
      "Time taken for 1 epoch 253.4513921737671 sec\n",
      "\n",
      "Epoch 6 Batch 0 Loss 1.0106\n",
      "Epoch 6 Batch 100 Loss 0.8307\n",
      "Epoch 6 Batch 200 Loss 0.9839\n",
      "Epoch 6 Batch 300 Loss 0.9104\n",
      "Epoch 6 Batch 400 Loss 0.8969\n",
      "Epoch 6 Loss 0.8796 Validation Loss 2.4544\n",
      "Time taken for 1 epoch 265.33819103240967 sec\n",
      "\n",
      "Epoch 7 Batch 0 Loss 0.5299\n",
      "Epoch 7 Batch 100 Loss 0.6162\n",
      "Epoch 7 Batch 200 Loss 0.6060\n",
      "Epoch 7 Batch 300 Loss 0.5710\n",
      "Epoch 7 Batch 400 Loss 0.6777\n",
      "Epoch 7 Loss 0.6147 Validation Loss 2.5333\n",
      "Time taken for 1 epoch 267.06404089927673 sec\n",
      "\n"
     ]
    }
   ],
   "source": [
    "epochs = 7\n",
    "attention = None\n",
    "print(\"Running seq2seq model without attention\")\n",
    "encoder, decoder, training_loss, validation_loss = training_seq2seq(epochs)\n",
    "\n",
    "tloss = training_loss\n",
    "vloss = validation_loss"
   ]
  },
  {
   "cell_type": "code",
   "execution_count": 32,
   "metadata": {},
   "outputs": [
    {
     "name": "stdout",
     "output_type": "stream",
     "text": [
      "INFO:tensorflow:Assets written to: ../../trained_model/seq2seq-trained-encoder/assets\n"
     ]
    },
    {
     "name": "stderr",
     "output_type": "stream",
     "text": [
      "INFO:tensorflow:Assets written to: ../../trained_model/seq2seq-trained-encoder/assets\n"
     ]
    },
    {
     "name": "stdout",
     "output_type": "stream",
     "text": [
      "INFO:tensorflow:Assets written to: ../../trained_model/seq2seq-trained-decoder/assets\n"
     ]
    },
    {
     "name": "stderr",
     "output_type": "stream",
     "text": [
      "INFO:tensorflow:Assets written to: ../../trained_model/seq2seq-trained-decoder/assets\n"
     ]
    }
   ],
   "source": [
    "encoder_save_path = \"../../trained_model/seq2seq-trained-encoder\"\n",
    "decoder_save_path = \"../../trained_model/seq2seq-trained-decoder\"\n",
    "encoder.save(filepath=encoder_save_path)\n",
    "decoder.save(filepath=decoder_save_path)"
   ]
  },
  {
   "cell_type": "code",
   "execution_count": 33,
   "metadata": {},
   "outputs": [],
   "source": [
    "vloss = [float(loss) for loss in vloss]\n",
    "tloss = [float(loss) for loss in tloss]"
   ]
  },
  {
   "cell_type": "code",
   "execution_count": 34,
   "metadata": {},
   "outputs": [
    {
     "data": {
      "text/plain": [
       "Text(0.5, 0, 'No. training iterations on dataset [Epochs]')"
      ]
     },
     "execution_count": 34,
     "metadata": {},
     "output_type": "execute_result"
    },
    {
     "data": {
      "image/png": "[encoded data removed]",
      "text/plain": [
       "<Figure size 640x480 with 1 Axes>"
      ]
     },
     "metadata": {},
     "output_type": "display_data"
    }
   ],
   "source": [
    "import matplotlib.pyplot as plt\n",
    "import seaborn as sns\n",
    "sns.set_style(\"darkgrid\")\n",
    "\n",
    "ax = plt.subplot(111) \n",
    "t = np.arange(1, epochs+1)\n",
    "\n",
    "for i in range(0, len(vloss)):\n",
    "  ax.cla()\n",
    "  line1, = plt.plot(t[:i], vloss[:i], lw=2)\n",
    "  line2, = plt.plot(t[:i], tloss[:i], lw=2)\n",
    "\n",
    "ax.legend([\"Validation loss\", \"Training loss\"])\n",
    "ax.set_title(\"Sparser Categorical Cross Entropy Loss\")\n",
    "ax.set_ylabel(\"Loss\")\n",
    "ax.set_xlabel(\"No. training iterations on dataset [Epochs]\")\n",
    "\n"
   ]
  },
  {
   "cell_type": "code",
   "execution_count": 35,
   "metadata": {},
   "outputs": [
    {
     "data": {
      "text/plain": [
       "(2.53334641456604, 0.6146905422210693)"
      ]
     },
     "execution_count": 35,
     "metadata": {},
     "output_type": "execute_result"
    }
   ],
   "source": [
    "vloss[-1], tloss[-1]"
   ]
  },
  {
   "cell_type": "code",
   "execution_count": 51,
   "metadata": {},
   "outputs": [],
   "source": [
    "def translate(sentence: str, encoder, decoder):\n",
    "    # attention_plot = np.zeros((max_length_targ, max_length_inp))\n",
    "    # sentence = preprocess_sentence(sentence)\n",
    "\n",
    "    inputs = [inp_lang_tokenizer.word_index[i] for i in sentence.split(' ')]\n",
    "    inputs = tf.keras.preprocessing.sequence.pad_sequences([inputs],maxlen=inp.shape[1], padding='post')\n",
    "\n",
    "    inputs = tf.convert_to_tensor(inputs)\n",
    "\n",
    "    result = ''\n",
    "\n",
    "    hidden = [tf.zeros((1,units))]\n",
    "    _, enc_hidden = encoder(inputs, hidden)\n",
    "\n",
    "    dec_hidden = enc_hidden\n",
    "\n",
    "    dec_input = tf.expand_dims([tgt_lang_tokenizer.word_index['<start>']], 0)\n",
    "\n",
    "    for t in range(inp.shape[1]):\n",
    "        predictions, dec_hidden = decoder(dec_input, dec_hidden)\n",
    "        predicted_id = tf.argmax(predictions[0]).numpy()\n",
    "        if tgt_lang_tokenizer.index_word[predicted_id] == '<end>':\n",
    "            return result, \" \".join(w for w in sentence.split(\" \")[1:-1])\n",
    "        result += tgt_lang_tokenizer.index_word[predicted_id] + ' '\n",
    "\n",
    "        \n",
    "        dec_input = tf.expand_dims([predicted_id], 0)\n",
    "    return result, \" \".join(w for w in sentence.split(\" \")[1:-1])"
   ]
  },
  {
   "cell_type": "code",
   "execution_count": 55,
   "metadata": {},
   "outputs": [
    {
     "name": "stdout",
     "output_type": "stream",
     "text": [
      "Input sentence  : debatten forklarar jag avslutad .\n",
      "Translation     : that concludes the vote . \n"
     ]
    }
   ],
   "source": [
    "swedish_sentence = \"debatten forklarar jag avslutad .\"\n",
    "\n",
    "result, sentence = translate(u\"<start> \" + swedish_sentence + \" <end>\", encoder, decoder)\n",
    "print(f'Input sentence  : {sentence}')\n",
    "print(f'Translation     : {result}')"
   ]
  }
 ],
 "metadata": {
  "kernelspec": {
   "display_name": ".venv",
   "language": "python",
   "name": "python3"
  },
  "language_info": {
   "codemirror_mode": {
    "name": "ipython",
    "version": 3
   },
   "file_extension": ".py",
   "mimetype": "text/x-python",
   "name": "python",
   "nbconvert_exporter": "python",
   "pygments_lexer": "ipython3",
   "version": "3.10.4"
  }
 },
 "nbformat": 4,
 "nbformat_minor": 2
}
