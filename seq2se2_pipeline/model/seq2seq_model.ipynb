{
 "cells": [
  {
   "cell_type": "markdown",
   "metadata": {},
   "source": [
    "### Tensorflow Seq2Seq model for translation from Swedish to English\n",
    "___"
   ]
  },
  {
   "cell_type": "code",
   "execution_count": 4,
   "metadata": {},
   "outputs": [
    {
     "name": "stdout",
     "output_type": "stream",
     "text": [
      "tf==2.15.0\n",
      "keras==2.15.0\n",
      "np==1.26.2\n",
      "pd==2.1.4\n"
     ]
    }
   ],
   "source": [
    "import tensorflow as tf\n",
    "import keras\n",
    "from sklearn.model_selection import train_test_split\n",
    "import numpy as np\n",
    "import pandas as pd\n",
    "\n",
    "import unicodedata\n",
    "import re\n",
    "import io\n",
    "import nltk\n",
    "import time\n",
    "\n",
    "# custom imports\n",
    "from get_vocabulary import get_vocab\n",
    "from encoder_decoder import Encoder, Decoder\n",
    "\n",
    "\n",
    "print(f\"tf=={tf.__version__}\")\n",
    "print(f\"keras=={keras.__version__}\")\n",
    "print(f\"np=={np.__version__}\")\n",
    "print(f\"pd=={pd.__version__}\")"
   ]
  },
  {
   "cell_type": "markdown",
   "metadata": {},
   "source": [
    "### Model data processing methods\n",
    "___"
   ]
  },
  {
   "cell_type": "code",
   "execution_count": 5,
   "metadata": {},
   "outputs": [],
   "source": [
    "MAX_LINES = 40_000  # to limit model training to some amount of lines\n"
   ]
  },
  {
   "cell_type": "code",
   "execution_count": 6,
   "metadata": {},
   "outputs": [],
   "source": [
    "def create_dataset(src_file, tgt_file) -> tuple[np.ndarray[str]]:\n",
    "    with open(file=src_file, mode=\"r\", encoding=\"utf-8\") as swef:\n",
    "        swe_lines = [line[:-1] for line in swef.readlines()][:MAX_LINES]\n",
    "    with open(file=tgt_file, mode=\"r\", encoding=\"utf-8\") as engf:\n",
    "        eng_lines = [line[:-1] for line in engf.readlines()][:MAX_LINES]\n",
    "\n",
    "    return swe_lines, eng_lines\n",
    "\n",
    "#tokenize the sentence and pad the sequence to the same length\n",
    "def tokenize(lang):\n",
    "    lang_tokenizer = keras.preprocessing.text.Tokenizer(filters='')\n",
    "    lang_tokenizer.fit_on_texts(lang)\n",
    "    tensor = lang_tokenizer.texts_to_sequences(lang)\n",
    "    tensor = keras.preprocessing.sequence.pad_sequences(tensor, padding='post')\n",
    "    return tensor, lang_tokenizer\n",
    "\n",
    "def load_dataset(src_file: str, tgt_file: str):\n",
    "    swe_lines, eng_lines = create_dataset(src_file=src_file, tgt_file=tgt_file)\n",
    "\n",
    "    input_tensor, inp_lang_tokenizer = tokenize(lang=swe_lines)\n",
    "    target_tensor, targ_lang_tokenizer = tokenize(lang=eng_lines)\n",
    "    return input_tensor, target_tensor, inp_lang_tokenizer, targ_lang_tokenizer"
   ]
  },
  {
   "cell_type": "code",
   "execution_count": 7,
   "metadata": {},
   "outputs": [
    {
     "data": {
      "text/plain": [
       "((40000, 11), (40000, 11))"
      ]
     },
     "execution_count": 7,
     "metadata": {},
     "output_type": "execute_result"
    }
   ],
   "source": [
    "\n",
    "local_dir_cleaned = \"../../data/cleaned/\"\n",
    "clean_eng_file = \"europarl-v6-cleaned-filtered.en\"\n",
    "clean_swe_file = \"europarl-v6-cleaned-filtered.sv\"\n",
    "\n",
    "inp, tgt, inp_lang_tokenizer, tgt_lang_tokenizer = load_dataset(\n",
    "    src_file=local_dir_cleaned+clean_swe_file, \n",
    "    tgt_file=local_dir_cleaned+clean_eng_file\n",
    ")\n",
    "\n",
    "inp.shape, tgt.shape"
   ]
  },
  {
   "cell_type": "code",
   "execution_count": 8,
   "metadata": {},
   "outputs": [
    {
     "name": "stdout",
     "output_type": "stream",
     "text": [
      "((32000, 11), (32000, 11))\n",
      "((8000, 11), (8000, 11))\n"
     ]
    }
   ],
   "source": [
    "inp_train, inp_val, tgt_train, tgt_val = train_test_split(inp, tgt, test_size=0.2)\n",
    "# inp_train, inp_val, tgt_train, tgt_val = train_test_split(inp_train_val, tgt_train_val, test_size=0.1)\n",
    "\n",
    "print((inp_train.shape, tgt_train.shape))\n",
    "print((inp_val.shape, tgt_val.shape))\n",
    "# print((inp_test.shape, tgt_test.shape))"
   ]
  },
  {
   "cell_type": "code",
   "execution_count": 9,
   "metadata": {},
   "outputs": [],
   "source": [
    "BUFFER_SIZE = inp_train.shape[0]\n",
    "BATCH_SIZE = 64         # 64 sentences per batch\n",
    "steps_per_epoch = inp_train.shape[0]//BATCH_SIZE\n",
    "steps_per_epoch_val = inp_val.shape[0]//BATCH_SIZE\n",
    "EMBEDDING_DIM = 256     # ... \n",
    "units = 1024    # dimensionality of output of RNN\n",
    "\n",
    "inp_vocab = get_vocab(clean_file=local_dir_cleaned+clean_swe_file, max_lines=MAX_LINES)\n",
    "tgt_vocab = get_vocab(clean_file=local_dir_cleaned+clean_eng_file, max_lines=MAX_LINES)\n",
    "\n",
    "vocab_inp_size = len(inp_vocab)+1\n",
    "vocab_tgt_size = len(tgt_vocab)+1\n",
    "\n",
    "dataset = tf.data.Dataset.from_tensor_slices((inp_train, tgt_train)).shuffle(BUFFER_SIZE)\n",
    "dataset = dataset.batch(BATCH_SIZE, drop_remainder=True)\n",
    "validation_dataset = tf.data.Dataset.from_tensor_slices((inp_val, tgt_val)).shuffle(BUFFER_SIZE)\n",
    "validation_dataset = validation_dataset.batch(BATCH_SIZE, drop_remainder=True)"
   ]
  },
  {
   "cell_type": "markdown",
   "metadata": {},
   "source": [
    "#### Samples\n",
    "___"
   ]
  },
  {
   "cell_type": "code",
   "execution_count": 10,
   "metadata": {},
   "outputs": [
    {
     "data": {
      "text/plain": [
       "(TensorShape([64, 11]), TensorShape([64, 11]))"
      ]
     },
     "execution_count": 10,
     "metadata": {},
     "output_type": "execute_result"
    }
   ],
   "source": [
    "example_input_batch, example_target_batch = next(iter(dataset))\n",
    "example_input_batch.shape, example_target_batch.shape"
   ]
  },
  {
   "cell_type": "code",
   "execution_count": 11,
   "metadata": {},
   "outputs": [],
   "source": [
    "encoder = Encoder(vocab_inp_size, EMBEDDING_DIM, units, BATCH_SIZE)\n",
    "\n",
    "sample_hidden = encoder.initialize_hidden_state()\n",
    "sample_output, sample_hidden = encoder(example_input_batch, sample_hidden)"
   ]
  },
  {
   "cell_type": "code",
   "execution_count": 12,
   "metadata": {},
   "outputs": [
    {
     "name": "stdout",
     "output_type": "stream",
     "text": [
      "Decoder output shape: (batch_size, vocab size) (64, 11405)\n"
     ]
    }
   ],
   "source": [
    "decoder = Decoder(vocab_tgt_size, EMBEDDING_DIM, units, BATCH_SIZE)\n",
    "\n",
    "sample_decoder_output, _  = decoder(tf.random.uniform((BATCH_SIZE, 1)), sample_hidden)\n",
    "\n",
    "print ('Decoder output shape: (batch_size, vocab size) {}'.format(sample_decoder_output.shape))"
   ]
  },
  {
   "cell_type": "code",
   "execution_count": 13,
   "metadata": {},
   "outputs": [],
   "source": [
    "loss_object = keras.losses.SparseCategoricalCrossentropy(from_logits=True, reduction='none')\n",
    "\n",
    "def loss_function(real,pred):\n",
    "    loss_ = loss_object(real,pred)\n",
    "    return tf.reduce_mean(loss_)"
   ]
  },
  {
   "cell_type": "code",
   "execution_count": 14,
   "metadata": {},
   "outputs": [
    {
     "name": "stdout",
     "output_type": "stream",
     "text": [
      "tf.Tensor([1.063386  1.3633859], shape=(2,), dtype=float32)\n",
      "tf.Tensor(1.2133859, shape=(), dtype=float32)\n"
     ]
    }
   ],
   "source": [
    "print(loss_object([1,2],[[0,0.6,0.3,0.1],[0,0.6,0.3,0.1]]))\n",
    "\n",
    "print(loss_function([1,2],[[0,0.6,0.3,0.1],[0,0.6,0.3,0.1]]))"
   ]
  },
  {
   "cell_type": "code",
   "execution_count": 15,
   "metadata": {},
   "outputs": [],
   "source": [
    "optimizer = keras.optimizers.legacy.Adam()\n",
    "\n",
    "def get_train_step_function():\n",
    "    @tf.function\n",
    "    def train_step(inp, targ, enc_hidden, encoder, decoder):\n",
    "        loss = 0\n",
    "\n",
    "        with tf.GradientTape() as tape:\n",
    "            _, enc_hidden = encoder(inp, enc_hidden)\n",
    "        \n",
    "            dec_hidden = enc_hidden\n",
    "\n",
    "            dec_input = tf.expand_dims([tgt_lang_tokenizer.word_index['<start>']]*BATCH_SIZE, 1)\n",
    "\n",
    "            for t in range(1,targ.shape[1]):\n",
    "                predictions, dec_hidden = decoder(dec_input, dec_hidden)     # enc_output , _\n",
    "                loss += loss_function(targ[:, t], predictions)\n",
    "                dec_input = tf.expand_dims(targ[:,t],1)\n",
    "        \n",
    "        batch_loss = (loss/int(targ.shape[1]))\n",
    "        variables = encoder.trainable_variables + decoder.trainable_variables\n",
    "        gradients = tape.gradient(loss, variables)\n",
    "        optimizer.apply_gradients(zip(gradients, variables))\n",
    "\n",
    "        return batch_loss\n",
    "    return train_step \n",
    "\n",
    "\n",
    "def calculate_validation_loss(inp, targ, enc_hidden, encoder, decoder):\n",
    "    loss = 0\n",
    "    _, enc_hidden = encoder(inp, enc_hidden)\n",
    "    dec_hidden = enc_hidden\n",
    "    dec_input = tf.expand_dims([tgt_lang_tokenizer.word_index['<start>']]*BATCH_SIZE,1)\n",
    "\n",
    "    for t in range(1, targ.shape[1]):\n",
    "        predictions, dec_hidden = decoder(dec_input, dec_hidden)         #  enc_output , _\n",
    "        loss+=loss_function(targ[:,t], predictions)\n",
    "        dec_input = tf.expand_dims(targ[:, t], 1)\n",
    "    \n",
    "    loss = loss/int(targ.shape[1])\n",
    "    return loss\n",
    "\n"
   ]
  },
  {
   "cell_type": "code",
   "execution_count": 16,
   "metadata": {},
   "outputs": [],
   "source": [
    "def training_seq2seq(epochs):\n",
    "    encoder = Encoder(vocab_inp_size, EMBEDDING_DIM, units, BATCH_SIZE)\n",
    "    # decoder = DecoderWithAttention(vocab_tar_size, embedding_dim, units, BATCH_SIZE, attention)\n",
    "    decoder = Decoder(vocab_tgt_size, EMBEDDING_DIM, units, BATCH_SIZE)\n",
    "    train_step_func = get_train_step_function()\n",
    "    training_loss = []\n",
    "    validation_loss = []\n",
    "\n",
    "    for epoch in range(epochs):\n",
    "        start = time.time()\n",
    "        enc_hidden = encoder.initialize_hidden_state()\n",
    "        total_loss = 0\n",
    "\n",
    "        # NOTE PROBLEM\n",
    "        for (batch,(inp,targ)) in enumerate(dataset.take(steps_per_epoch)):\n",
    "            batch_loss = train_step_func(inp, targ, enc_hidden, encoder, decoder)\n",
    "            total_loss+=batch_loss\n",
    "\n",
    "            if batch%100 == 0:\n",
    "                print('Epoch {} Batch {} Loss {:.4f}'.format(epoch + 1, batch, batch_loss))\n",
    "        \n",
    "        enc_hidden = encoder.initialize_hidden_state()\n",
    "        total_val_loss = 0\n",
    "\n",
    "        for (batch, (inp, targ)) in enumerate(validation_dataset.take(steps_per_epoch_val)):\n",
    "            val_loss = calculate_validation_loss(inp, targ, enc_hidden, encoder, decoder)\n",
    "            total_val_loss += val_loss\n",
    "        \n",
    "        training_loss.append(total_loss/steps_per_epoch)\n",
    "        validation_loss.append(total_val_loss/steps_per_epoch_val)\n",
    "\n",
    "        print('Epoch {} Loss {:.4f} Validation Loss {:.4f}'.format(epoch + 1, training_loss[-1], validation_loss[-1]))\n",
    "        print('Time taken for 1 epoch {} sec\\n'.format(time.time() - start))\n",
    "\n",
    "    return encoder, decoder, training_loss, validation_loss"
   ]
  },
  {
   "cell_type": "code",
   "execution_count": 17,
   "metadata": {},
   "outputs": [
    {
     "name": "stdout",
     "output_type": "stream",
     "text": [
      "Running seq2seq model without attention\n",
      "Epoch 1 Batch 0 Loss 8.4928\n",
      "Epoch 1 Batch 100 Loss 3.7817\n",
      "Epoch 1 Batch 200 Loss 3.4582\n",
      "Epoch 1 Batch 300 Loss 3.2923\n",
      "Epoch 1 Batch 400 Loss 3.0627\n",
      "Epoch 1 Loss 3.5582 Validation Loss 2.9780\n",
      "Time taken for 1 epoch 241.4162471294403 sec\n",
      "\n",
      "Epoch 2 Batch 0 Loss 2.6221\n",
      "Epoch 2 Batch 100 Loss 2.7102\n",
      "Epoch 2 Batch 200 Loss 2.6741\n",
      "Epoch 2 Batch 300 Loss 2.7011\n",
      "Epoch 2 Batch 400 Loss 2.6791\n",
      "Epoch 2 Loss 2.6570 Validation Loss 2.6152\n",
      "Time taken for 1 epoch 242.612646818161 sec\n",
      "\n",
      "Epoch 3 Batch 0 Loss 1.9973\n",
      "Epoch 3 Batch 100 Loss 2.1036\n",
      "Epoch 3 Batch 200 Loss 1.8990\n",
      "Epoch 3 Batch 300 Loss 2.1695\n",
      "Epoch 3 Batch 400 Loss 2.0140\n",
      "Epoch 3 Loss 2.1581 Validation Loss 2.4473\n",
      "Time taken for 1 epoch 250.8557047843933 sec\n",
      "\n",
      "Epoch 4 Batch 0 Loss 1.7604\n",
      "Epoch 4 Batch 100 Loss 1.6024\n",
      "Epoch 4 Batch 200 Loss 1.6267\n",
      "Epoch 4 Batch 300 Loss 1.7554\n",
      "Epoch 4 Batch 400 Loss 1.6112\n",
      "Epoch 4 Loss 1.7138 Validation Loss 2.3947\n",
      "Time taken for 1 epoch 270.5253150463104 sec\n",
      "\n",
      "Epoch 5 Batch 0 Loss 1.3190\n",
      "Epoch 5 Batch 100 Loss 1.2788\n",
      "Epoch 5 Batch 200 Loss 1.3201\n",
      "Epoch 5 Batch 300 Loss 1.3618\n",
      "Epoch 5 Batch 400 Loss 1.3248\n",
      "Epoch 5 Loss 1.2967 Validation Loss 2.4178\n",
      "Time taken for 1 epoch 255.3792610168457 sec\n",
      "\n",
      "Epoch 6 Batch 0 Loss 0.8802\n",
      "Epoch 6 Batch 100 Loss 0.8460\n",
      "Epoch 6 Batch 200 Loss 0.9110\n",
      "Epoch 6 Batch 300 Loss 0.9216\n",
      "Epoch 6 Batch 400 Loss 1.0137\n",
      "Epoch 6 Loss 0.9410 Validation Loss 2.4730\n",
      "Time taken for 1 epoch 255.24942111968994 sec\n",
      "\n",
      "Epoch 7 Batch 0 Loss 0.6141\n",
      "Epoch 7 Batch 100 Loss 0.6712\n",
      "Epoch 7 Batch 200 Loss 0.7161\n",
      "Epoch 7 Batch 300 Loss 0.6494\n",
      "Epoch 7 Batch 400 Loss 0.6798\n",
      "Epoch 7 Loss 0.6586 Validation Loss 2.5492\n",
      "Time taken for 1 epoch 257.341677904129 sec\n",
      "\n"
     ]
    }
   ],
   "source": [
    "epochs = 7\n",
    "attention = None\n",
    "print(\"Running seq2seq model without attention\")\n",
    "encoder, decoder, training_loss, validation_loss = training_seq2seq(epochs)\n",
    "\n",
    "tloss = training_loss\n",
    "vloss = validation_loss"
   ]
  },
  {
   "cell_type": "code",
   "execution_count": 18,
   "metadata": {},
   "outputs": [],
   "source": [
    "import pickle as pl\n",
    "# with open(file=\"../../trained_model/seq2seq-trained-encoder.pkl\", mode=\"wb\") as f:\n",
    "#     pl.dump(encoder, f)\n",
    "# with open(file=\"../../trained_model/seq2seq-trained-decoder.pkl\", mode=\"wb\") as f:\n",
    "#     pl.dump(decoder, f)\n"
   ]
  },
  {
   "cell_type": "code",
   "execution_count": 19,
   "metadata": {},
   "outputs": [],
   "source": [
    "# with open(file=\"../../trained_model/seq2seq-trained-encoder.pkl\", mode=\"rb\") as f:\n",
    "#     encoder = pl.load(f)\n",
    "# with open(file=\"../../trained_model/seq2seq-trained-decoder.pkl\", mode=\"rb\") as f:\n",
    "#     decoder = pl.load(f)\n",
    "\n",
    "# decoder_saved = decoder\n",
    "# encoder_saved = encoder\n"
   ]
  },
  {
   "cell_type": "code",
   "execution_count": 20,
   "metadata": {},
   "outputs": [],
   "source": [
    "\n",
    "def translate(sentence, encoder, decoder):\n",
    "    # attention_plot = np.zeros((max_length_targ, max_length_inp))\n",
    "    # sentence = preprocess_sentence(sentence)\n",
    "\n",
    "    inputs = [inp_lang_tokenizer.word_index[i] for i in sentence.split(' ')]\n",
    "    inputs = tf.keras.preprocessing.sequence.pad_sequences([inputs],maxlen=inp.shape[1], padding='post')\n",
    "\n",
    "    inputs = tf.convert_to_tensor(inputs)\n",
    "\n",
    "    result = ''\n",
    "\n",
    "    hidden = [tf.zeros((1,units))]\n",
    "    _, enc_hidden = encoder(inputs, hidden)\n",
    "\n",
    "    dec_hidden = enc_hidden\n",
    "\n",
    "    dec_input = tf.expand_dims([tgt_lang_tokenizer.word_index['<start>']], 0)\n",
    "\n",
    "    for t in range(tgt.shape[1]):\n",
    "        predictions, dec_hidden = decoder(dec_input, dec_hidden)\n",
    "        predicted_id = tf.argmax(predictions[0]).numpy()\n",
    "        result += tgt_lang_tokenizer.index_word[predicted_id] + ' '\n",
    "\n",
    "        if tgt_lang_tokenizer.index_word[predicted_id] == '<end>':\n",
    "            return result, sentence\n",
    "        \n",
    "        dec_input = tf.expand_dims([predicted_id], 0)\n",
    "    return result, sentence"
   ]
  },
  {
   "cell_type": "code",
   "execution_count": 21,
   "metadata": {},
   "outputs": [
    {
     "name": "stdout",
     "output_type": "stream",
     "text": [
      "Input: <start> debatten forklarar jag avslutad . <end>\n",
      "Predicted translation: the debate is closed . <end> \n"
     ]
    }
   ],
   "source": [
    "result, sentence = translate(u'<start> debatten forklarar jag avslutad . <end>', encoder, decoder)\n",
    "print('Input: %s' % (sentence))\n",
    "print('Predicted translation: {}'.format(result))\n"
   ]
  },
  {
   "cell_type": "code",
   "execution_count": 32,
   "metadata": {},
   "outputs": [
    {
     "name": "stdout",
     "output_type": "stream",
     "text": [
      "Input: <start> det tycker jag ar helt oacceptabelt . <end>\n",
      "Predicted translation: i think that is quite unacceptable . <end> \n"
     ]
    }
   ],
   "source": [
    "\"jag skulle vilja ge dem till belgien\"\n",
    "\"en man ska laga mat i ett hem\"\n",
    "\"det tycka jag vara helt oacceptabelt .\"\n",
    "\n",
    "\n",
    "\n",
    "result, sentence = translate(\n",
    "    u\"<start> det tycker jag ar helt oacceptabelt . <end>\",          # jag kommer inte att satta debatten om ja\n",
    "    encoder, \n",
    "    decoder\n",
    "    )\n",
    "print('Input: %s' % (sentence))\n",
    "print('Predicted translation: {}'.format(result))"
   ]
  },
  {
   "cell_type": "code",
   "execution_count": 23,
   "metadata": {},
   "outputs": [],
   "source": [
    "vloss = [float(loss) for loss in vloss]\n",
    "tloss = [float(loss) for loss in tloss]"
   ]
  },
  {
   "cell_type": "code",
   "execution_count": 24,
   "metadata": {},
   "outputs": [
    {
     "data": {
      "text/plain": [
       "Text(0.5, 0, 'No. training iterations on dataset [Epochs]')"
      ]
     },
     "execution_count": 24,
     "metadata": {},
     "output_type": "execute_result"
    },
    {
     "data": {
      "image/png": "[encoded data removed]",
      "text/plain": [
       "<Figure size 640x480 with 1 Axes>"
      ]
     },
     "metadata": {},
     "output_type": "display_data"
    }
   ],
   "source": [
    "import matplotlib.pyplot as plt\n",
    "import seaborn as sns\n",
    "sns.set_style(\"darkgrid\")\n",
    "\n",
    "ax = plt.subplot(111) \n",
    "t = np.arange(1, epochs+1)\n",
    "\n",
    "for i in range(0, len(vloss)):\n",
    "  ax.cla()\n",
    "  line1, = plt.plot(t[:i], vloss[:i], lw=2)\n",
    "  line2, = plt.plot(t[:i], tloss[:i], lw=2)\n",
    "\n",
    "ax.legend([\"Validation loss\", \"Training loss\"])\n",
    "ax.set_title(\"Sparser Categorical Cross Entropy Loss\")\n",
    "ax.set_ylabel(\"Loss\")\n",
    "ax.set_xlabel(\"No. training iterations on dataset [Epochs]\")\n",
    "\n"
   ]
  },
  {
   "cell_type": "code",
   "execution_count": 25,
   "metadata": {},
   "outputs": [
    {
     "data": {
      "text/plain": [
       "(2.549233913421631, 0.6585878133773804)"
      ]
     },
     "execution_count": 25,
     "metadata": {},
     "output_type": "execute_result"
    }
   ],
   "source": [
    "vloss[-1], tloss[-1]"
   ]
  }
 ],
 "metadata": {
  "kernelspec": {
   "display_name": ".venv",
   "language": "python",
   "name": "python3"
  },
  "language_info": {
   "codemirror_mode": {
    "name": "ipython",
    "version": 3
   },
   "file_extension": ".py",
   "mimetype": "text/x-python",
   "name": "python",
   "nbconvert_exporter": "python",
   "pygments_lexer": "ipython3",
   "version": "3.10.4"
  }
 },
 "nbformat": 4,
 "nbformat_minor": 2
}
